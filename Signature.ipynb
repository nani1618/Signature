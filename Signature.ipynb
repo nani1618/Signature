{
 "cells": [
  {
   "cell_type": "markdown",
   "metadata": {},
   "source": [
    "Importing Required Libraries"
   ]
  },
  {
   "cell_type": "code",
   "execution_count": 1,
   "metadata": {},
   "outputs": [
    {
     "name": "stdout",
     "output_type": "stream",
     "text": [
      "WARNING:tensorflow:From C:\\Users\\Minfy.DESKTOP-8RVTREL\\AppData\\Local\\Packages\\PythonSoftwareFoundation.Python.3.11_qbz5n2kfra8p0\\LocalCache\\local-packages\\Python311\\site-packages\\keras\\src\\losses.py:2976: The name tf.losses.sparse_softmax_cross_entropy is deprecated. Please use tf.compat.v1.losses.sparse_softmax_cross_entropy instead.\n",
      "\n"
     ]
    }
   ],
   "source": [
    "\n",
    "import os\n",
    "import shutil\n",
    "import random\n",
    "\n",
    "import numpy as np\n",
    "import matplotlib.pyplot as plt\n",
    "from sklearn.model_selection import train_test_split\n",
    "\n",
    "from tensorflow.keras.preprocessing.image import ImageDataGenerator\n",
    "from tensorflow.keras.models import Sequential\n",
    "from tensorflow.keras.layers import Dense, Dropout, Flatten, Conv2D, MaxPooling2D\n",
    "from tensorflow.keras.optimizers import Adam\n",
    "from tensorflow.keras.callbacks import EarlyStopping\n",
    "\n",
    "from sklearn.metrics import accuracy_score, precision_score, recall_score, f1_score"
   ]
  },
  {
   "cell_type": "markdown",
   "metadata": {},
   "source": [
    "Creating Paths for Training and Validation"
   ]
  },
  {
   "cell_type": "code",
   "execution_count": 2,
   "metadata": {},
   "outputs": [],
   "source": [
    "\n",
    "data_dir = 'CEDAR'\n",
    "train_dir = os.path.join(data_dir, 'train')\n",
    "val_dir = os.path.join(data_dir, 'val')"
   ]
  },
  {
   "cell_type": "code",
   "execution_count": 3,
   "metadata": {},
   "outputs": [],
   "source": [
    "train_dir = 'Data/train'\n",
    "val_dir = 'Data/val'\n",
    "os.makedirs(train_dir, exist_ok=True)\n",
    "os.makedirs(val_dir, exist_ok=True)\n",
    "\n",
    "# Create subdirectories for genuine and forged signatures\n",
    "os.makedirs(os.path.join(train_dir, 'genuine'), exist_ok=True)\n",
    "os.makedirs(os.path.join(train_dir, 'forged'), exist_ok=True)\n",
    "os.makedirs(os.path.join(val_dir, 'genuine'), exist_ok=True)\n",
    "os.makedirs(os.path.join(val_dir, 'forged'), exist_ok=True)"
   ]
  },
  {
   "cell_type": "markdown",
   "metadata": {},
   "source": [
    "Splitting Data and Loading into Specific Directories"
   ]
  },
  {
   "cell_type": "code",
   "execution_count": 4,
   "metadata": {},
   "outputs": [],
   "source": [
    "signature_dirs = [d for d in os.listdir('CEDAR') if os.path.isdir(os.path.join('CEDAR', d))]\n",
    "\n",
    "# Split directories into train and val\n",
    "random.seed(42)\n",
    "random.shuffle(signature_dirs)\n",
    "train_dirs = signature_dirs[:int(0.8 * len(signature_dirs))]\n",
    "val_dirs = signature_dirs[int(0.8 * len(signature_dirs)):]\n",
    "\n",
    "# Copy images to train and val directories\n",
    "for d in train_dirs:\n",
    "    dir_path = os.path.join('CEDAR', d)\n",
    "    for img in os.listdir(dir_path):\n",
    "        if img.startswith('original'):\n",
    "            src = os.path.join(dir_path, img)\n",
    "            dst = os.path.join(train_dir, 'genuine')\n",
    "            shutil.copy(src, dst)\n",
    "        elif img.startswith('forgeries'):\n",
    "            src = os.path.join(dir_path, img)\n",
    "            dst = os.path.join(train_dir, 'forged')\n",
    "            shutil.copy(src, dst)\n",
    "\n",
    "for d in val_dirs:\n",
    "    dir_path = os.path.join('CEDAR', d)\n",
    "    for img in os.listdir(dir_path):\n",
    "        if img.startswith('original'):\n",
    "            src = os.path.join(dir_path, img)\n",
    "            dst = os.path.join(val_dir, 'genuine')\n",
    "            shutil.copy(src, dst)\n",
    "        elif img.startswith('forgeries'):\n",
    "            src = os.path.join(dir_path, img)\n",
    "            dst = os.path.join(val_dir, 'forged')\n",
    "            shutil.copy(src, dst)"
   ]
  },
  {
   "cell_type": "markdown",
   "metadata": {},
   "source": [
    "Loading Images"
   ]
  },
  {
   "cell_type": "code",
   "execution_count": 5,
   "metadata": {},
   "outputs": [
    {
     "name": "stdout",
     "output_type": "stream",
     "text": [
      "Found 2112 images belonging to 2 classes.\n",
      "Found 528 images belonging to 2 classes.\n"
     ]
    }
   ],
   "source": [
    "\n",
    "train_datagen = ImageDataGenerator(rescale=1./255, shear_range=0.2, zoom_range=0.2, horizontal_flip=True)\n",
    "train_generator = train_datagen.flow_from_directory(train_dir, target_size=(64, 64), batch_size=32, class_mode='binary')\n",
    "\n",
    "val_datagen = ImageDataGenerator(rescale=1./255)\n",
    "val_generator = val_datagen.flow_from_directory(val_dir, target_size=(64, 64), batch_size=32, class_mode='binary')"
   ]
  },
  {
   "cell_type": "markdown",
   "metadata": {},
   "source": [
    "Defining CNN Architecture"
   ]
  },
  {
   "cell_type": "code",
   "execution_count": 16,
   "metadata": {},
   "outputs": [
    {
     "name": "stderr",
     "output_type": "stream",
     "text": [
      "WARNING:absl:`lr` is deprecated in Keras optimizer, please use `learning_rate` or use the legacy optimizer, e.g.,tf.keras.optimizers.legacy.Adam.\n"
     ]
    }
   ],
   "source": [
    "# Model Architecture\n",
    "model = Sequential()\n",
    "model.add(Conv2D(32, (3, 3), activation='relu', input_shape=(64, 64, 3)))\n",
    "model.add(MaxPooling2D((2, 2)))\n",
    "model.add(Conv2D(64, (3, 3), activation='relu'))\n",
    "model.add(MaxPooling2D((2, 2)))\n",
    "model.add(Conv2D(128, (3, 3), activation='relu'))\n",
    "model.add(MaxPooling2D((2, 2)))\n",
    "model.add(Flatten())\n",
    "model.add(Dense(128, activation='relu'))\n",
    "model.add(Dropout(0.5))\n",
    "model.add(Dense(1, activation='sigmoid'))\n",
    "\n",
    "model.compile(optimizer=Adam(lr=0.001), loss='binary_crossentropy', metrics=['accuracy'])"
   ]
  },
  {
   "cell_type": "markdown",
   "metadata": {},
   "source": [
    "Training the Model"
   ]
  },
  {
   "cell_type": "code",
   "execution_count": 17,
   "metadata": {},
   "outputs": [
    {
     "name": "stdout",
     "output_type": "stream",
     "text": [
      "Epoch 1/50\n",
      "66/66 [==============================] - 19s 255ms/step - loss: 0.6946 - accuracy: 0.5147 - val_loss: 0.6823 - val_accuracy: 0.7292\n",
      "Epoch 2/50\n",
      "66/66 [==============================] - 16s 245ms/step - loss: 0.6805 - accuracy: 0.5649 - val_loss: 0.6018 - val_accuracy: 0.7330\n",
      "Epoch 3/50\n",
      "66/66 [==============================] - 15s 229ms/step - loss: 0.6570 - accuracy: 0.6098 - val_loss: 0.6341 - val_accuracy: 0.6742\n",
      "Epoch 4/50\n",
      "66/66 [==============================] - 18s 271ms/step - loss: 0.6296 - accuracy: 0.6520 - val_loss: 0.5285 - val_accuracy: 0.7576\n",
      "Epoch 5/50\n",
      "66/66 [==============================] - 19s 283ms/step - loss: 0.6176 - accuracy: 0.6615 - val_loss: 0.4834 - val_accuracy: 0.7803\n",
      "Epoch 6/50\n",
      "66/66 [==============================] - 19s 289ms/step - loss: 0.5899 - accuracy: 0.6932 - val_loss: 0.4441 - val_accuracy: 0.8106\n",
      "Epoch 7/50\n",
      "66/66 [==============================] - 18s 276ms/step - loss: 0.5750 - accuracy: 0.7027 - val_loss: 0.3929 - val_accuracy: 0.8163\n",
      "Epoch 8/50\n",
      "66/66 [==============================] - 19s 286ms/step - loss: 0.5710 - accuracy: 0.7107 - val_loss: 0.3965 - val_accuracy: 0.8258\n",
      "Epoch 9/50\n",
      "66/66 [==============================] - 16s 238ms/step - loss: 0.5669 - accuracy: 0.7027 - val_loss: 0.4330 - val_accuracy: 0.8125\n",
      "Epoch 10/50\n",
      "66/66 [==============================] - 17s 260ms/step - loss: 0.5407 - accuracy: 0.7311 - val_loss: 0.3470 - val_accuracy: 0.8447\n",
      "Epoch 11/50\n",
      "66/66 [==============================] - 15s 232ms/step - loss: 0.5418 - accuracy: 0.7292 - val_loss: 0.3799 - val_accuracy: 0.8428\n",
      "Epoch 12/50\n",
      "66/66 [==============================] - 34s 526ms/step - loss: 0.5361 - accuracy: 0.7358 - val_loss: 0.3281 - val_accuracy: 0.8561\n",
      "Epoch 13/50\n",
      "66/66 [==============================] - 47s 715ms/step - loss: 0.5181 - accuracy: 0.7505 - val_loss: 0.3148 - val_accuracy: 0.8636\n",
      "Epoch 14/50\n",
      "66/66 [==============================] - 61s 933ms/step - loss: 0.5124 - accuracy: 0.7401 - val_loss: 0.3267 - val_accuracy: 0.8655\n",
      "Epoch 15/50\n",
      "66/66 [==============================] - 63s 955ms/step - loss: 0.5158 - accuracy: 0.7481 - val_loss: 0.4122 - val_accuracy: 0.8182\n",
      "Epoch 16/50\n",
      "66/66 [==============================] - 57s 873ms/step - loss: 0.4590 - accuracy: 0.7756 - val_loss: 0.3568 - val_accuracy: 0.8447\n",
      "Epoch 17/50\n",
      "66/66 [==============================] - 44s 662ms/step - loss: 0.5111 - accuracy: 0.7519 - val_loss: 0.3762 - val_accuracy: 0.8561\n",
      "Epoch 18/50\n",
      "66/66 [==============================] - 69s 1s/step - loss: 0.4331 - accuracy: 0.8054 - val_loss: 0.2552 - val_accuracy: 0.8939\n",
      "Epoch 19/50\n",
      "66/66 [==============================] - 64s 977ms/step - loss: 0.3941 - accuracy: 0.8333 - val_loss: 0.2866 - val_accuracy: 0.9034\n",
      "Epoch 20/50\n",
      "66/66 [==============================] - 68s 1s/step - loss: 0.3348 - accuracy: 0.8551 - val_loss: 0.5884 - val_accuracy: 0.7197\n",
      "Epoch 21/50\n",
      "66/66 [==============================] - 58s 889ms/step - loss: 0.3118 - accuracy: 0.8736 - val_loss: 0.3101 - val_accuracy: 0.8807\n",
      "Epoch 22/50\n",
      "66/66 [==============================] - 60s 903ms/step - loss: 0.3173 - accuracy: 0.8636 - val_loss: 0.2718 - val_accuracy: 0.8996\n",
      "Epoch 23/50\n",
      "66/66 [==============================] - 68s 1s/step - loss: 0.2356 - accuracy: 0.9053 - val_loss: 0.3639 - val_accuracy: 0.8428\n",
      "Epoch 24/50\n",
      "66/66 [==============================] - 22s 329ms/step - loss: 0.2829 - accuracy: 0.8821 - val_loss: 0.3110 - val_accuracy: 0.8655\n",
      "Epoch 25/50\n",
      "66/66 [==============================] - 17s 252ms/step - loss: 0.2182 - accuracy: 0.9143 - val_loss: 0.3600 - val_accuracy: 0.8371\n",
      "Epoch 26/50\n",
      "66/66 [==============================] - 16s 247ms/step - loss: 0.2227 - accuracy: 0.9124 - val_loss: 0.2575 - val_accuracy: 0.8769\n",
      "Epoch 27/50\n",
      "66/66 [==============================] - 17s 261ms/step - loss: 0.2235 - accuracy: 0.9152 - val_loss: 0.6374 - val_accuracy: 0.6515\n",
      "Epoch 28/50\n",
      "66/66 [==============================] - 17s 261ms/step - loss: 0.1406 - accuracy: 0.9498 - val_loss: 0.2464 - val_accuracy: 0.9091\n",
      "Epoch 29/50\n",
      "66/66 [==============================] - 17s 259ms/step - loss: 0.1971 - accuracy: 0.9252 - val_loss: 0.2246 - val_accuracy: 0.9129\n",
      "Epoch 30/50\n",
      "66/66 [==============================] - 18s 277ms/step - loss: 0.2375 - accuracy: 0.9081 - val_loss: 0.4013 - val_accuracy: 0.8163\n",
      "Epoch 31/50\n",
      "66/66 [==============================] - 19s 290ms/step - loss: 0.1303 - accuracy: 0.9574 - val_loss: 0.5631 - val_accuracy: 0.8333\n",
      "Epoch 32/50\n",
      "66/66 [==============================] - 20s 310ms/step - loss: 0.0451 - accuracy: 0.9872 - val_loss: 0.0661 - val_accuracy: 0.9697\n",
      "Epoch 33/50\n",
      "66/66 [==============================] - 20s 307ms/step - loss: 0.1864 - accuracy: 0.9280 - val_loss: 0.2758 - val_accuracy: 0.8845\n",
      "Epoch 34/50\n",
      "66/66 [==============================] - 20s 309ms/step - loss: 0.1263 - accuracy: 0.9560 - val_loss: 0.1358 - val_accuracy: 0.9394\n",
      "Epoch 35/50\n",
      "66/66 [==============================] - 18s 276ms/step - loss: 0.0525 - accuracy: 0.9806 - val_loss: 0.3459 - val_accuracy: 0.8826\n",
      "Epoch 36/50\n",
      "66/66 [==============================] - 17s 263ms/step - loss: 0.0216 - accuracy: 0.9934 - val_loss: 0.1721 - val_accuracy: 0.9318\n",
      "Epoch 37/50\n",
      "66/66 [==============================] - 16s 241ms/step - loss: 0.0237 - accuracy: 0.9920 - val_loss: 0.1391 - val_accuracy: 0.9451\n",
      "Epoch 38/50\n",
      "66/66 [==============================] - 17s 254ms/step - loss: 0.4377 - accuracy: 0.9181 - val_loss: 0.4717 - val_accuracy: 0.8598\n",
      "Epoch 39/50\n",
      "66/66 [==============================] - 18s 279ms/step - loss: 0.4298 - accuracy: 0.8163 - val_loss: 0.2588 - val_accuracy: 0.8750\n",
      "Epoch 40/50\n",
      "66/66 [==============================] - 19s 295ms/step - loss: 0.1677 - accuracy: 0.9489 - val_loss: 0.2631 - val_accuracy: 0.9015\n",
      "Epoch 41/50\n",
      "66/66 [==============================] - 19s 289ms/step - loss: 0.0901 - accuracy: 0.9740 - val_loss: 0.1232 - val_accuracy: 0.9640\n",
      "Epoch 42/50\n",
      "66/66 [==============================] - 19s 291ms/step - loss: 0.1206 - accuracy: 0.9626 - val_loss: 0.0647 - val_accuracy: 0.9754\n",
      "Epoch 43/50\n",
      "66/66 [==============================] - 18s 274ms/step - loss: 0.2761 - accuracy: 0.8916 - val_loss: 0.5463 - val_accuracy: 0.7386\n",
      "Epoch 44/50\n",
      "66/66 [==============================] - 17s 256ms/step - loss: 0.0568 - accuracy: 0.9830 - val_loss: 1.0933 - val_accuracy: 0.7405\n",
      "Epoch 45/50\n",
      "66/66 [==============================] - 33s 510ms/step - loss: 0.0804 - accuracy: 0.9697 - val_loss: 0.5922 - val_accuracy: 0.8030\n",
      "Epoch 46/50\n",
      "66/66 [==============================] - 58s 883ms/step - loss: 0.0386 - accuracy: 0.9886 - val_loss: 0.6263 - val_accuracy: 0.8068\n",
      "Epoch 47/50\n",
      "66/66 [==============================] - 48s 715ms/step - loss: 0.0320 - accuracy: 0.9891 - val_loss: 0.2015 - val_accuracy: 0.9299\n",
      "Epoch 48/50\n",
      "66/66 [==============================] - 59s 900ms/step - loss: 0.1507 - accuracy: 0.9479 - val_loss: 0.1554 - val_accuracy: 0.9451\n",
      "Epoch 49/50\n",
      "66/66 [==============================] - 47s 718ms/step - loss: 0.0224 - accuracy: 0.9938 - val_loss: 0.1115 - val_accuracy: 0.9602\n",
      "Epoch 50/50\n",
      "66/66 [==============================] - 18s 275ms/step - loss: 0.1880 - accuracy: 0.9370 - val_loss: 0.2036 - val_accuracy: 0.9129\n"
     ]
    }
   ],
   "source": [
    "# Model Training\n",
    "early_stop = EarlyStopping(monitor='val_loss', patience=10)\n",
    "history = model.fit(train_generator, epochs=50, validation_data=val_generator, callbacks=[early_stop])"
   ]
  },
  {
   "cell_type": "markdown",
   "metadata": {},
   "source": [
    "Evaluation Metrics"
   ]
  },
  {
   "cell_type": "code",
   "execution_count": 18,
   "metadata": {},
   "outputs": [
    {
     "name": "stdout",
     "output_type": "stream",
     "text": [
      "17/17 [==============================] - 3s 137ms/step - loss: 0.2036 - accuracy: 0.9129\n",
      "Validation Loss: 0.20361071825027466\n",
      "Validation Accuracy: 0.9128788113594055\n",
      "17/17 [==============================] - 3s 120ms/step\n",
      "Precision: 0.481651376146789\n",
      "Recall: 0.3977272727272727\n",
      "F1-Score: 0.43568464730290457\n"
     ]
    }
   ],
   "source": [
    "# Evaluate Model\n",
    "val_loss, val_acc = model.evaluate(val_generator)\n",
    "print('Validation Loss:', val_loss)\n",
    "print('Validation Accuracy:', val_acc)\n",
    "\n",
    "y_true = val_generator.classes\n",
    "y_pred = (model.predict(val_generator) > 0.5).astype(int)\n",
    "\n",
    "precision = precision_score(y_true, y_pred)\n",
    "recall = recall_score(y_true, y_pred)\n",
    "f1 = f1_score(y_true, y_pred)\n",
    "\n",
    "print('Precision:', precision)\n",
    "print('Recall:', recall)\n",
    "print('F1-Score:', f1)"
   ]
  }
 ],
 "metadata": {
  "kernelspec": {
   "display_name": "Python 3",
   "language": "python",
   "name": "python3"
  },
  "language_info": {
   "codemirror_mode": {
    "name": "ipython",
    "version": 3
   },
   "file_extension": ".py",
   "mimetype": "text/x-python",
   "name": "python",
   "nbconvert_exporter": "python",
   "pygments_lexer": "ipython3",
   "version": "3.11.9"
  }
 },
 "nbformat": 4,
 "nbformat_minor": 2
}
